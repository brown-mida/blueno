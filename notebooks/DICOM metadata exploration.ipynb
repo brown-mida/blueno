{
 "cells": [
  {
   "cell_type": "code",
   "execution_count": null,
   "metadata": {},
   "outputs": [],
   "source": [
    "import pydicom\n",
    "import os"
   ]
  },
  {
   "cell_type": "code",
   "execution_count": null,
   "metadata": {},
   "outputs": [],
   "source": [
    "def load_scan(dirpath):\n",
    "    \"\"\"Loads a CT scan.\n",
    "\n",
    "    This only loads dicom files ending in .dcm and ignores nested\n",
    "    folders.\n",
    "\n",
    "    :param dirpath: the path to a directory containing dicom (.dcm) files\n",
    "    :return: a list of all dicom FileDataset objects, sorted by\n",
    "        ImagePositionPatient\n",
    "    \"\"\"\n",
    "    slices = [pydicom.read_file(dirpath + '/' + filename)\n",
    "              for filename in os.listdir(dirpath)\n",
    "              if filename.endswith('.dcm')]\n",
    "    return sorted(slices, key=lambda x: float(x.ImagePositionPatient[2]))"
   ]
  },
  {
   "cell_type": "code",
   "execution_count": 16,
   "metadata": {},
   "outputs": [],
   "source": [
    "dirpath = \"/Users/haltriedman/Downloads/AFN5EQGSDERZCTLM ASPLUND FABIAN N/43180aa67f90657abbecd099b45fc7a1 CTA ELVO Head and Neck/CT 1mm axial brain neck cta\"\n",
    "scan = load_scan(dirpath)"
   ]
  },
  {
   "cell_type": "code",
   "execution_count": 3,
   "metadata": {
    "collapsed": false
   },
   "outputs": [
    {
     "name": "stdout",
     "output_type": "stream",
     "text": [
      "\n"
     ]
    }
   ],
   "source": [
    "print(\"\")"
   ]
  },
  {
   "cell_type": "code",
   "execution_count": null,
   "metadata": {
    "collapsed": true
   },
   "outputs": [],
   "source": []
  }
 ],
 "metadata": {
  "kernelspec": {
   "display_name": "Python 2",
   "language": "python",
   "name": "python2"
  },
  "language_info": {
   "codemirror_mode": {
    "name": "ipython",
    "version": 2
   },
   "file_extension": ".py",
   "mimetype": "text/x-python",
   "name": "python",
   "nbconvert_exporter": "python",
   "pygments_lexer": "ipython2",
   "version": "2.7.14"
  }
 },
 "nbformat": 4,
 "nbformat_minor": 2
}
