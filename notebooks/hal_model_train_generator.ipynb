{
 "cells": [
  {
   "cell_type": "code",
   "execution_count": 2,
   "metadata": {},
   "outputs": [],
   "source": [
    "import os\n",
    "import sys\n",
    "import pathlib\n",
    "import typing\n",
    "\n",
    "import numpy as np"
   ]
  },
  {
   "cell_type": "code",
   "execution_count": 3,
   "metadata": {},
   "outputs": [],
   "source": [
    "module_path = os.path.abspath(os.path.join('..'))\n",
    "if module_path not in sys.path:\n",
    "    sys.path.append(module_path)"
   ]
  },
  {
   "cell_type": "code",
   "execution_count": 8,
   "metadata": {},
   "outputs": [],
   "source": [
    "from keras.models import Model, Sequential\n",
    "from keras.layers import Dense, Conv2D, GlobalAveragePooling2D\n",
    "from keras.layers import Dropout, BatchNormalization\n",
    "from keras.callbacks import Callback\n",
    "from keras.optimizers import adam, SGD\n",
    "\n",
    "import ml.generators.mip_generator as generator\n",
    "\n",
    "import tensorflow as tf"
   ]
  },
  {
   "cell_type": "code",
   "execution_count": 5,
   "metadata": {},
   "outputs": [],
   "source": [
    "num_filts, filt_dims = 96, 3\n",
    "channels, im_dims = 3, 120\n",
    "output_dim = 1\n",
    "\n",
    "epochs = 20\n",
    "batch_size = 16"
   ]
  },
  {
   "cell_type": "code",
   "execution_count": 9,
   "metadata": {},
   "outputs": [
    {
     "ename": "TypeError",
     "evalue": "'module' object is not callable",
     "traceback": [
      "\u001b[0;31m---------------------------------------------------------------------------\u001b[0m",
      "\u001b[0;31mTypeError\u001b[0m                                 Traceback (most recent call last)",
      "\u001b[0;32m<ipython-input-9-7b958bc3016c>\u001b[0m in \u001b[0;36m<module>\u001b[0;34m()\u001b[0m\n\u001b[1;32m      3\u001b[0m                           \u001b[0maugment_data\u001b[0m\u001b[0;34m=\u001b[0m\u001b[0;32mTrue\u001b[0m\u001b[0;34m,\u001b[0m\u001b[0;34m\u001b[0m\u001b[0m\n\u001b[1;32m      4\u001b[0m                           \u001b[0mextend_dims\u001b[0m\u001b[0;34m=\u001b[0m\u001b[0;32mFalse\u001b[0m\u001b[0;34m,\u001b[0m\u001b[0;34m\u001b[0m\u001b[0m\n\u001b[0;32m----> 5\u001b[0;31m                           validation=False)\n\u001b[0m\u001b[1;32m      6\u001b[0m val_gen = generator(dims=(channels, im_dims, im_dims),\n\u001b[1;32m      7\u001b[0m                           \u001b[0mbatch_size\u001b[0m\u001b[0;34m=\u001b[0m\u001b[0mbatch_size\u001b[0m\u001b[0;34m,\u001b[0m\u001b[0;34m\u001b[0m\u001b[0m\n",
      "\u001b[0;31mTypeError\u001b[0m: 'module' object is not callable"
     ],
     "output_type": "error"
    }
   ],
   "source": [
    "TrainGen = generator\n",
    "ValGen = generator\n",
    "train_gen = TrainGen(dims=(channels, im_dims, im_dims),\n",
    "                          batch_size=batch_size,\n",
    "                          augment_data=True,\n",
    "                          extend_dims=False,\n",
    "                          validation=False)\n",
    "val_gen = ValGen(dims=(channels, im_dims, im_dims),\n",
    "                          batch_size=batch_size,\n",
    "                          augment_data=True,\n",
    "                          extend_dims=False,\n",
    "                          validation=True)"
   ]
  },
  {
   "cell_type": "code",
   "execution_count": 42,
   "metadata": {},
   "outputs": [],
   "source": [
    "sess = tf.Session(config=tf.ConfigProto(log_device_placement=True))"
   ]
  },
  {
   "cell_type": "code",
   "execution_count": 33,
   "metadata": {},
   "outputs": [],
   "source": [
    "model = Sequential()\n",
    "model.add(Conv2D(num_filts, (filt_dims, filt_dims), data_format='channels_first',\n",
    "                 activation='relu', padding='same', input_shape=(channels, im_dims, im_dims)))\n",
    "model.add(BatchNormalization())\n",
    "model.add(Conv2D(num_filts, (filt_dims, filt_dims), data_format='channels_first', activation='relu', padding='same'))\n",
    "model.add(BatchNormalization())\n",
    "model.add(Conv2D(num_filts, (filt_dims, filt_dims), data_format='channels_first', activation='relu', padding='same', strides=(2,2)))\n",
    "model.add(BatchNormalization())\n",
    "num_filts *= 2\n",
    "model.add(Dropout(0.4))\n",
    "model.add(Conv2D(num_filts, (filt_dims, filt_dims), data_format='channels_first', activation='relu', padding='same'))\n",
    "model.add(BatchNormalization())\n",
    "model.add(Conv2D(num_filts, (filt_dims, filt_dims), data_format='channels_first', activation='relu', padding='same'))\n",
    "model.add(BatchNormalization())\n",
    "model.add(Conv2D(num_filts, (filt_dims, filt_dims), data_format='channels_first', activation='relu', padding='same', strides=(2,2)))\n",
    "model.add(BatchNormalization())\n",
    "model.add(Dropout(0.4))\n",
    "model.add(Conv2D(num_filts, (filt_dims, filt_dims), data_format='channels_first', activation='relu', padding='same'))\n",
    "model.add(BatchNormalization())\n",
    "model.add(Conv2D(num_filts, (1, 1), data_format='channels_first', activation='relu', padding='same'))\n",
    "model.add(BatchNormalization())\n",
    "model.add(Conv2D(1, (1, 1), data_format='channels_first', activation='relu', padding='same'))\n",
    "model.add(BatchNormalization())\n",
    "model.add(GlobalAveragePooling2D(data_format='channels_first'))\n",
    "model.add(Dense(output_dim, activation='sigmoid'))\n",
    "model.compile(optimizer=adam(lr=0.0001),\n",
    "              loss='binary_crossentropy',\n",
    "              metrics=['accuracy'])"
   ]
  },
  {
   "cell_type": "code",
   "execution_count": 34,
   "metadata": {},
   "outputs": [
    {
     "name": "stdout",
     "output_type": "stream",
     "text": [
      "_________________________________________________________________\n",
      "Layer (type)                 Output Shape              Param #   \n",
      "=================================================================\n",
      "conv2d_19 (Conv2D)           (None, 192, 120, 120)     5376      \n",
      "_________________________________________________________________\n",
      "batch_normalization_19 (Batc (None, 192, 120, 120)     480       \n",
      "_________________________________________________________________\n",
      "conv2d_20 (Conv2D)           (None, 192, 120, 120)     331968    \n",
      "_________________________________________________________________\n",
      "batch_normalization_20 (Batc (None, 192, 120, 120)     480       \n",
      "_________________________________________________________________\n",
      "conv2d_21 (Conv2D)           (None, 192, 60, 60)       331968    \n",
      "_________________________________________________________________\n",
      "batch_normalization_21 (Batc (None, 192, 60, 60)       240       \n",
      "_________________________________________________________________\n",
      "dropout_5 (Dropout)          (None, 192, 60, 60)       0         \n",
      "_________________________________________________________________\n",
      "conv2d_22 (Conv2D)           (None, 384, 60, 60)       663936    \n",
      "_________________________________________________________________\n",
      "batch_normalization_22 (Batc (None, 384, 60, 60)       240       \n",
      "_________________________________________________________________\n",
      "conv2d_23 (Conv2D)           (None, 384, 60, 60)       1327488   \n",
      "_________________________________________________________________\n",
      "batch_normalization_23 (Batc (None, 384, 60, 60)       240       \n",
      "_________________________________________________________________\n",
      "conv2d_24 (Conv2D)           (None, 384, 30, 30)       1327488   \n",
      "_________________________________________________________________\n",
      "batch_normalization_24 (Batc (None, 384, 30, 30)       120       \n",
      "_________________________________________________________________\n",
      "dropout_6 (Dropout)          (None, 384, 30, 30)       0         \n",
      "_________________________________________________________________\n",
      "conv2d_25 (Conv2D)           (None, 384, 30, 30)       1327488   \n",
      "_________________________________________________________________\n",
      "batch_normalization_25 (Batc (None, 384, 30, 30)       120       \n",
      "_________________________________________________________________\n",
      "conv2d_26 (Conv2D)           (None, 384, 30, 30)       147840    \n",
      "_________________________________________________________________\n",
      "batch_normalization_26 (Batc (None, 384, 30, 30)       120       \n",
      "_________________________________________________________________\n",
      "conv2d_27 (Conv2D)           (None, 1, 30, 30)         385       \n",
      "_________________________________________________________________\n",
      "batch_normalization_27 (Batc (None, 1, 30, 30)         120       \n",
      "_________________________________________________________________\n",
      "global_average_pooling2d_3 ( (None, 1)                 0         \n",
      "_________________________________________________________________\n",
      "dense_3 (Dense)              (None, 1)                 2         \n",
      "=================================================================\n",
      "Total params: 5,466,099\n",
      "Trainable params: 5,465,019\n",
      "Non-trainable params: 1,080\n",
      "_________________________________________________________________\n"
     ]
    }
   ],
   "source": [
    "model.summary()"
   ]
  },
  {
   "cell_type": "code",
   "execution_count": null,
   "metadata": {},
   "outputs": [],
   "source": [
    "mc_callback = ModelCheckpoint(filepath='tmp/all_conv_weights.hdf5', verbose=1)\n",
    "model.fit_generator(\n",
    "    generator=training_gen.generate(),\n",
    "    steps_per_epoch=training_gen.get_steps_per_epoch(),\n",
    "    validation_data=validation_gen.generate(),\n",
    "    validation_steps=validation_gen.get_steps_per_epoch(),\n",
    "    epochs=epochs,\n",
    "    callbacks=[mc_callback],\n",
    "    verbose=1,\n",
    "    max_queue_size=1)"
   ]
  }
 ],
 "metadata": {
  "kernelspec": {
   "display_name": "Python 3",
   "language": "python",
   "name": "python3"
  },
  "language_info": {
   "codemirror_mode": {
    "name": "ipython",
    "version": 3
   },
   "file_extension": ".py",
   "mimetype": "text/x-python",
   "name": "python",
   "nbconvert_exporter": "python",
   "pygments_lexer": "ipython3",
   "version": "3.6.3"
  }
 },
 "nbformat": 4,
 "nbformat_minor": 2
}
