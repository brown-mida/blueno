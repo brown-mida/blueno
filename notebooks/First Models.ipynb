{
 "cells": [
  {
   "cell_type": "markdown",
   "metadata": {},
   "source": [
    "## First Models\n",
    "\n",
    "First models on the deparment GPU"
   ]
  },
  {
   "cell_type": "code",
   "execution_count": 1,
   "metadata": {},
   "outputs": [
    {
     "name": "stderr",
     "output_type": "stream",
     "text": [
      "Using TensorFlow backend.\n",
      "/gpfs/main/home/lzhu7/elvo-analysis/venv/lib/python3.6/importlib/_bootstrap.py:219: RuntimeWarning: compiletime version 3.5 of module 'tensorflow.python.framework.fast_tensor_util' does not match runtime version 3.6\n",
      "  return f(*args, **kwds)\n"
     ]
    }
   ],
   "source": [
    "\"\"\"Trains a model on a department machine.\n",
    "\n",
    "Make sure to copy the data from thingumy to here first.\n",
    "\"\"\"\n",
    "import logging\n",
    "import os\n",
    "import sys\n",
    "from pathlib import Path\n",
    "\n",
    "import keras\n",
    "import matplotlib.pyplot as plt\n",
    "import numpy as np\n",
    "import pandas as pd\n",
    "from keras import layers, optimizers"
   ]
  },
  {
   "cell_type": "code",
   "execution_count": 2,
   "metadata": {},
   "outputs": [],
   "source": [
    "LENGTH, WIDTH, HEIGHT = (120, 120, 64)\n",
    "\n",
    "VALID_TRAINING_INDICES = []\n",
    "VALID_VALIDATION_INDICES = []"
   ]
  },
  {
   "cell_type": "code",
   "execution_count": 3,
   "metadata": {},
   "outputs": [],
   "source": [
    "def configure_logger():\n",
    "    root_logger = logging.getLogger()\n",
    "    root_logger.setLevel(logging.INFO)\n",
    "    handler = logging.StreamHandler()\n",
    "    formatter = logging.Formatter(\n",
    "        fmt='%(asctime)s - %(name)s - %(levelname)s - %(message)s')\n",
    "    handler.setFormatter(formatter)\n",
    "    root_logger.addHandler(handler)"
   ]
  },
  {
   "cell_type": "markdown",
   "metadata": {},
   "source": [
    "## Preprocessing\n"
   ]
  },
  {
   "cell_type": "code",
   "execution_count": 4,
   "metadata": {},
   "outputs": [],
   "source": [
    "def load_training_data() -> np.array:\n",
    "    \"\"\"Returns a 4D matrix of the training data.\n",
    "\n",
    "     The data is in the form (n_samples, l, w, h). The samples\n",
    "     are sorted by patient ID.\n",
    "     \"\"\"\n",
    "    arrays = []\n",
    "    training_filenames = sorted(os.listdir(\n",
    "        '/home/lzhu7/data/numpy_split/training'))\n",
    "    for i, filename in enumerate(training_filenames):\n",
    "        arr = np.load('/home/lzhu7/data/numpy_split/training/' + filename)\n",
    "        if arr.shape == (LENGTH, WIDTH, HEIGHT):\n",
    "            arrays.append(arr)\n",
    "            VALID_TRAINING_INDICES.append(i)\n",
    "        else:\n",
    "            logging.info(\n",
    "                f'training file {filename} has incorrect shape {arr.shape}')\n",
    "    return np.stack(arrays)\n",
    "\n",
    "\n",
    "def load_validation_data() -> np.array:\n",
    "    \"\"\"Returns a 4D matrix of the validation data.\n",
    "\n",
    "     The data is in the form (n_samples, l, w, h). The samples\n",
    "     are sorted by patient ID.\n",
    "    \"\"\"\n",
    "    arrays = []\n",
    "    validation_filenames = sorted(os.listdir(\n",
    "        '/home/lzhu7/data/numpy_split/validation'))\n",
    "    for i, filename in enumerate(validation_filenames):\n",
    "        arr = np.load('/home/lzhu7/data/numpy_split/validation/' + filename)\n",
    "        if arr.shape == (LENGTH, WIDTH, HEIGHT):\n",
    "            arrays.append(arr)\n",
    "            VALID_VALIDATION_INDICES.append(i)\n",
    "        else:\n",
    "            logging.info(\n",
    "                f'validation file {filename} has incorrect shape {arr.shape}')\n",
    "    return np.stack(arrays)\n",
    "\n",
    "\n",
    "def load_labels() -> (np.array, np.array):\n",
    "    training_df = pd.read_csv('/home/lzhu7/data/training_labels.csv')\n",
    "    validation_df = pd.read_csv('/home/lzhu7/data/validation_labels.csv')\n",
    "    training_labels = training_df.sort_values('patient_id')['label'].values\n",
    "    validation_labels = validation_df.sort_values('patient_id')['label'].values\n",
    "    return training_labels, validation_labels"
   ]
  },
  {
   "cell_type": "code",
   "execution_count": 5,
   "metadata": {},
   "outputs": [
    {
     "name": "stderr",
     "output_type": "stream",
     "text": [
      "2018-06-11 15:22:57,444 - root - INFO - loaded training data with shape (500, 120, 120, 64)\n",
      "2018-06-11 15:22:57,458 - root - INFO - loaded training labels with shape (500,)\n",
      "2018-06-11 15:22:57,459 - root - INFO - filtered training labels to shape (500,)\n"
     ]
    }
   ],
   "source": [
    "configure_logger()\n",
    "X_train = load_training_data()\n",
    "logging.info(f'loaded training data with shape {X_train.shape}')\n",
    "y_train, _ = load_labels()\n",
    "logging.info(f'loaded training labels with shape {y_train.shape}')\n",
    "y_train = y_train[VALID_TRAINING_INDICES]\n",
    "logging.info(f'filtered training labels to shape {y_train.shape}')"
   ]
  },
  {
   "cell_type": "code",
   "execution_count": 6,
   "metadata": {},
   "outputs": [
    {
     "name": "stderr",
     "output_type": "stream",
     "text": [
      "2018-06-11 15:22:57,882 - root - INFO - validation file LAUIHISOEZIM5ILF.npy has incorrect shape (120, 120, 0)\n",
      "2018-06-11 15:22:58,844 - root - INFO - loaded validation data with shape (379, 120, 120, 64)\n",
      "2018-06-11 15:22:58,855 - root - INFO - loaded validation labels with shape (380,)\n",
      "2018-06-11 15:22:58,856 - root - INFO - filtered validation labels to shape (379,)\n"
     ]
    }
   ],
   "source": [
    "# Uncomment to see validation data\n",
    "X_valid = load_validation_data()\n",
    "logging.info(f'loaded validation data with shape {X_valid.shape}')\n",
    "_, y_valid = load_labels()\n",
    "logging.info(f'loaded validation labels with shape {y_valid.shape}')\n",
    "y_valid = y_valid[VALID_VALIDATION_INDICES]\n",
    "logging.info(f'filtered validation labels to shape {y_valid.shape}')"
   ]
  },
  {
   "cell_type": "markdown",
   "metadata": {},
   "source": [
    "## Data Exploration"
   ]
  },
  {
   "cell_type": "code",
   "execution_count": 7,
   "metadata": {},
   "outputs": [],
   "source": [
    "%matplotlib inline"
   ]
  },
  {
   "cell_type": "markdown",
   "metadata": {},
   "source": [
    "## More preprocessing"
   ]
  },
  {
   "cell_type": "code",
   "execution_count": 8,
   "metadata": {},
   "outputs": [],
   "source": [
    "def normalize(X: np.array, mean: float, std: float):\n",
    "    return (X - mean) / std"
   ]
  },
  {
   "cell_type": "code",
   "execution_count": 9,
   "metadata": {},
   "outputs": [],
   "source": [
    "def squash_height(X: np.array):\n",
    "    return X.max(axis=3)"
   ]
  },
  {
   "cell_type": "code",
   "execution_count": 10,
   "metadata": {},
   "outputs": [
    {
     "name": "stdout",
     "output_type": "stream",
     "text": [
      "36.98628576605903 217.98102904871755\n"
     ]
    }
   ],
   "source": [
    "X_mean = X_train.mean()\n",
    "X_std = X_train.std()\n",
    "print(X_mean, X_std)"
   ]
  },
  {
   "cell_type": "code",
   "execution_count": 11,
   "metadata": {},
   "outputs": [
    {
     "name": "stdout",
     "output_type": "stream",
     "text": [
      "-4.2368577781972915e-17 0.9999999999999996\n"
     ]
    }
   ],
   "source": [
    "X_train = normalize(X_train, X_mean, X_std)\n",
    "print(X_train.mean(), X_train.std())"
   ]
  },
  {
   "cell_type": "code",
   "execution_count": 12,
   "metadata": {},
   "outputs": [
    {
     "name": "stdout",
     "output_type": "stream",
     "text": [
      "0.028612636609074697 0.9502294290688718\n"
     ]
    }
   ],
   "source": [
    "X_valid = normalize(X_valid, X_mean, X_std)\n",
    "print(X_valid.mean(), X_valid.std())"
   ]
  },
  {
   "cell_type": "code",
   "execution_count": 13,
   "metadata": {},
   "outputs": [],
   "source": [
    "X_train_squashed = np.expand_dims(squash_height(X_train), axis=3)"
   ]
  },
  {
   "cell_type": "code",
   "execution_count": 14,
   "metadata": {},
   "outputs": [],
   "source": [
    "X_valid_squashed = np.expand_dims(squash_height(X_valid), axis=3)"
   ]
  },
  {
   "cell_type": "code",
   "execution_count": 15,
   "metadata": {},
   "outputs": [
    {
     "data": {
      "text/plain": [
       "(500, 120, 120, 1)"
      ]
     },
     "execution_count": 15,
     "metadata": {},
     "output_type": "execute_result"
    }
   ],
   "source": [
    "X_train_squashed.shape"
   ]
  },
  {
   "cell_type": "code",
   "execution_count": 16,
   "metadata": {},
   "outputs": [],
   "source": [
    "import matplotlib.pyplot as plt"
   ]
  },
  {
   "cell_type": "code",
   "execution_count": 17,
   "metadata": {},
   "outputs": [
    {
     "data": {
      "text/plain": [
       "<matplotlib.image.AxesImage at 0x7fa22874c668>"
      ]
     },
     "execution_count": 17,
     "metadata": {},
     "output_type": "execute_result"
    },
    {
     "data": {
      "image/png": "[encoded data removed]",
      "text/plain": [
       "<Figure size 432x288 with 1 Axes>"
      ]
     },
     "metadata": {},
     "output_type": "display_data"
    }
   ],
   "source": [
    "plt.imshow(squash_height(X_valid)[14])"
   ]
  },
  {
   "cell_type": "code",
   "execution_count": 18,
   "metadata": {},
   "outputs": [],
   "source": [
    "X_train_3d = np.expand_dims(X_train, axis=4)"
   ]
  },
  {
   "cell_type": "code",
   "execution_count": 19,
   "metadata": {},
   "outputs": [],
   "source": [
    "X_valid_3d = np.expand_dims(X_valid, axis=4)"
   ]
  },
  {
   "cell_type": "markdown",
   "metadata": {},
   "source": [
    "## Model training"
   ]
  },
  {
   "cell_type": "code",
   "execution_count": 20,
   "metadata": {},
   "outputs": [],
   "source": [
    "def build_model() -> keras.Model:\n",
    "    \"\"\"This initially worked fine.\n",
    "    \"\"\"\n",
    "    model = keras.Sequential()\n",
    "    model.add(layers.Conv2D(128,\n",
    "                            (3, 3),\n",
    "                            activation='relu',\n",
    "                            input_shape=(LENGTH, WIDTH, HEIGHT)))\n",
    "    model.add(layers.Conv2D(128, (3, 3), activation='relu', padding='same'))\n",
    "    model.add(layers.MaxPool2D())\n",
    "    model.add(layers.Conv2D(256, (3, 3), activation='relu', padding='same'))\n",
    "    model.add(layers.Conv2D(256, (3, 3), activation='relu', padding='same'))\n",
    "    model.add(layers.MaxPool2D())\n",
    "    model.add(layers.Conv2D(512, (3, 3), activation='relu', padding='same'))\n",
    "    model.add(layers.Conv2D(512, (3, 3), activation='relu', padding='same'))\n",
    "    model.add(layers.Conv2D(512, (3, 3), activation='relu', padding='same'))\n",
    "    model.add(layers.Conv2D(512, (3, 3), activation='relu', padding='same'))\n",
    "    model.add(layers.MaxPool2D())\n",
    "    model.add(layers.Conv2D(1024, (3, 3), activation='relu', use_bias=False, padding='same'))\n",
    "    model.add(layers.Conv2D(1024, (3, 3), activation='relu', use_bias=False, padding='same'))\n",
    "    model.add(layers.MaxPool2D())\n",
    "    model.add(layers.Flatten())\n",
    "    model.add(layers.Dense(1024, activation='relu', use_bias=False))\n",
    "    model.add(layers.Dense(1024, activation='relu', use_bias=False))\n",
    "    model.add(layers.Dropout(0.5))\n",
    "    model.add(layers.Dense(1, activation='sigmoid', use_bias=False))\n",
    "\n",
    "    model.compile(optimizer=optimizers.Adam(lr=1e-3),\n",
    "                  loss='binary_crossentropy',\n",
    "                  metrics=['accuracy'])\n",
    "    return model"
   ]
  },
  {
   "cell_type": "code",
   "execution_count": 21,
   "metadata": {},
   "outputs": [],
   "source": [
    "def build_model_squashed() -> keras.Model:\n",
    "    \"\"\"This doesn't work well\n",
    "    \"\"\"\n",
    "    model = keras.Sequential()\n",
    "    model.add(layers.Conv2D(64,\n",
    "                            (3, 3),\n",
    "                            activation='relu',\n",
    "                            input_shape=(LENGTH, WIDTH, HEIGHT)))\n",
    "    model.add(layers.Conv2D(64, (3, 3), activation='relu', padding='same'))\n",
    "    model.add(layers.MaxPool2D())\n",
    "    model.add(layers.Conv2D(128, (3, 3), activation='relu', padding='same'))\n",
    "    model.add(layers.Conv2D(128, (3, 3), activation='relu', padding='same'))\n",
    "    model.add(layers.MaxPool2D())\n",
    "    model.add(layers.Conv2D(256, (3, 3), activation='relu', padding='same'))\n",
    "    model.add(layers.Conv2D(256, (3, 3), activation='relu', padding='same'))\n",
    "    model.add(layers.MaxPool2D())\n",
    "    model.add(layers.Flatten())\n",
    "    model.add(layers.Dense(1024, activation='relu'))\n",
    "    model.add(layers.Dense(1024, activation='relu'))\n",
    "    model.add(layers.Dropout(0.5))\n",
    "    model.add(layers.Dense(1, activation='sigmoid'))\n",
    "\n",
    "    model.compile(optimizer=optimizers.Adam(lr=1e-4),\n",
    "                  loss='binary_crossentropy',\n",
    "                  metrics=['accuracy'])\n",
    "    return model"
   ]
  },
  {
   "cell_type": "code",
   "execution_count": 25,
   "metadata": {},
   "outputs": [],
   "source": [
    "def build_model_3d() -> keras.Model:\n",
    "    model = keras.Sequential()\n",
    "    model.add(layers.Conv3D(64,\n",
    "                            (3, 3, 3),\n",
    "                            activation='relu',\n",
    "                            input_shape=(LENGTH, WIDTH, HEIGHT, 1)))\n",
    "    model.add(layers.MaxPool3D())\n",
    "    model.add(layers.Conv3D(128, (3, 3, 3), activation='relu', padding='same'))\n",
    "    model.add(layers.MaxPool3D())\n",
    "    model.add(layers.Conv3D(256, (3, 3, 3), activation='relu', padding='same'))\n",
    "    model.add(layers.Conv3D(256, (3, 3, 3), activation='relu', padding='same'))\n",
    "    model.add(layers.MaxPool3D())\n",
    "    model.add(layers.Conv3D(512, (3, 3, 3), activation='relu', padding='same'))\n",
    "    model.add(layers.Conv3D(512, (3, 3, 3), activation='relu', padding='same'))\n",
    "    model.add(layers.MaxPool3D())\n",
    "    model.add(layers.Conv3D(512, (3, 3, 3), activation='relu', padding='same'))\n",
    "    model.add(layers.Conv3D(512, (3, 3, 3), activation='relu', padding='same'))\n",
    "    model.add(layers.MaxPool3D())\n",
    "    model.add(layers.Flatten())\n",
    "    model.add(layers.Dense(1024, activation='relu', use_bias=False))\n",
    "    model.add(layers.Dense(1024, activation='relu', use_bias=False))\n",
    "    model.add(layers.Dropout(0.5))\n",
    "    model.add(layers.Dense(1, activation='sigmoid', use_bias=False))\n",
    "\n",
    "    model.compile(optimizer=optimizers.Adam(lr=1e-3),\n",
    "                  loss='binary_crossentropy',\n",
    "                  metrics=['accuracy'])\n",
    "    return model"
   ]
  },
  {
   "cell_type": "code",
   "execution_count": 26,
   "metadata": {},
   "outputs": [
    {
     "name": "stdout",
     "output_type": "stream",
     "text": [
      "_________________________________________________________________\n",
      "Layer (type)                 Output Shape              Param #   \n",
      "=================================================================\n",
      "conv3d_9 (Conv3D)            (None, 118, 118, 62, 64)  1792      \n",
      "_________________________________________________________________\n",
      "max_pooling3d_6 (MaxPooling3 (None, 59, 59, 31, 64)    0         \n",
      "_________________________________________________________________\n",
      "conv3d_10 (Conv3D)           (None, 59, 59, 31, 128)   221312    \n",
      "_________________________________________________________________\n",
      "max_pooling3d_7 (MaxPooling3 (None, 29, 29, 15, 128)   0         \n",
      "_________________________________________________________________\n",
      "conv3d_11 (Conv3D)           (None, 29, 29, 15, 256)   884992    \n",
      "_________________________________________________________________\n",
      "conv3d_12 (Conv3D)           (None, 29, 29, 15, 256)   1769728   \n",
      "_________________________________________________________________\n",
      "max_pooling3d_8 (MaxPooling3 (None, 14, 14, 7, 256)    0         \n",
      "_________________________________________________________________\n",
      "conv3d_13 (Conv3D)           (None, 14, 14, 7, 512)    3539456   \n",
      "_________________________________________________________________\n",
      "conv3d_14 (Conv3D)           (None, 14, 14, 7, 512)    7078400   \n",
      "_________________________________________________________________\n",
      "max_pooling3d_9 (MaxPooling3 (None, 7, 7, 3, 512)      0         \n",
      "_________________________________________________________________\n",
      "conv3d_15 (Conv3D)           (None, 7, 7, 3, 512)      7078400   \n",
      "_________________________________________________________________\n",
      "conv3d_16 (Conv3D)           (None, 7, 7, 3, 512)      7078400   \n",
      "_________________________________________________________________\n",
      "max_pooling3d_10 (MaxPooling (None, 3, 3, 1, 512)      0         \n",
      "_________________________________________________________________\n",
      "flatten_2 (Flatten)          (None, 4608)              0         \n",
      "_________________________________________________________________\n",
      "dense_4 (Dense)              (None, 1024)              4718592   \n",
      "_________________________________________________________________\n",
      "dense_5 (Dense)              (None, 1024)              1048576   \n",
      "_________________________________________________________________\n",
      "dropout_2 (Dropout)          (None, 1024)              0         \n",
      "_________________________________________________________________\n",
      "dense_6 (Dense)              (None, 1)                 1024      \n",
      "=================================================================\n",
      "Total params: 33,420,672\n",
      "Trainable params: 33,420,672\n",
      "Non-trainable params: 0\n",
      "_________________________________________________________________\n"
     ]
    }
   ],
   "source": [
    "model_3d = build_model_3d()\n",
    "model_3d.summary()"
   ]
  },
  {
   "cell_type": "code",
   "execution_count": null,
   "metadata": {},
   "outputs": [
    {
     "name": "stdout",
     "output_type": "stream",
     "text": [
      "Train on 500 samples, validate on 379 samples\n",
      "Epoch 1/10\n"
     ]
    }
   ],
   "source": [
    "model_3d.fit(X_train_3d[0:500], y_train[0:500], batch_size=32, epochs=10, validation_data=(X_valid_3d, y_valid))"
   ]
  },
  {
   "cell_type": "code",
   "execution_count": null,
   "metadata": {
    "scrolled": true
   },
   "outputs": [],
   "source": [
    "# model.predict(X_train[0:10])"
   ]
  },
  {
   "cell_type": "code",
   "execution_count": null,
   "metadata": {},
   "outputs": [],
   "source": [
    "# model.predict(X_valid[0:10])"
   ]
  },
  {
   "cell_type": "code",
   "execution_count": null,
   "metadata": {},
   "outputs": [],
   "source": [
    "import time\n",
    "model.save(f'model-{time.time()}.hdf5')"
   ]
  }
 ],
 "metadata": {
  "kernelspec": {
   "display_name": "Python 3",
   "language": "python",
   "name": "python3"
  }
 },
 "nbformat": 4,
 "nbformat_minor": 2
}
