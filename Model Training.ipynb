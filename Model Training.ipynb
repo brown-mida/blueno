{
 "cells": [
  {
   "cell_type": "code",
   "execution_count": 105,
   "metadata": {},
   "outputs": [],
   "source": [
    "import os\n",
    "import numpy as np\n",
    "import pandas as pd\n",
    "import scipy.ndimage\n",
    "import scipy.misc\n",
    "\n",
    "import matplotlib.pyplot as plt"
   ]
  },
  {
   "cell_type": "code",
   "execution_count": 117,
   "metadata": {},
   "outputs": [],
   "source": [
    "images = []\n",
    "for filename in sorted(os.listdir('data-1517884138')):\n",
    "    if 'csv' in filename:\n",
    "        continue\n",
    "    images.append(np.load('data-1517884138' + '/' + filename))\n",
    "\n",
    "labels = pd.read_csv('data-1517884138/labels.csv', index_col=0)\n",
    "labels.sort_index(inplace=True)"
   ]
  },
  {
   "cell_type": "code",
   "execution_count": 97,
   "metadata": {},
   "outputs": [],
   "source": [
    "resized = np.stack([scipy.ndimage.interpolation.zoom(arr, 32/200) for arr in images])\n",
    "images = np.stack(arr for arr in images)"
   ]
  },
  {
   "cell_type": "code",
   "execution_count": 98,
   "metadata": {},
   "outputs": [
    {
     "data": {
      "text/plain": [
       "(9, 32, 32, 32)"
      ]
     },
     "execution_count": 98,
     "metadata": {},
     "output_type": "execute_result"
    }
   ],
   "source": [
    "images.shape\n",
    "resized.shape"
   ]
  },
  {
   "cell_type": "code",
   "execution_count": 99,
   "metadata": {},
   "outputs": [
    {
     "data": {
      "text/plain": [
       "<matplotlib.image.AxesImage at 0x11062c780>"
      ]
     },
     "execution_count": 99,
     "metadata": {},
     "output_type": "execute_result"
    },
    {
     "data": {
      "image/png": "[encoded data removed]",
      "text/plain": [
       "<matplotlib.figure.Figure at 0x114023390>"
      ]
     },
     "metadata": {},
     "output_type": "display_data"
    }
   ],
   "source": [
    "%matplotlib inline\n",
    "plt.imshow(resized[8][31])"
   ]
  },
  {
   "cell_type": "code",
   "execution_count": 100,
   "metadata": {},
   "outputs": [],
   "source": [
    "def normalize(image, lower_bound=None, upper_bound=None):\n",
    "    if lower_bound is None:\n",
    "        lower_bound = image.min()\n",
    "    if upper_bound is None:\n",
    "        upper_bound = image.max()\n",
    "        \n",
    "    image[image > upper_bound] = upper_bound\n",
    "    image[image < lower_bound] = lower_bound\n",
    "    \n",
    "    return (image - image.mean()) / image.std()\n",
    "\n",
    "normalized = zero_center(normalize(resized))"
   ]
  },
  {
   "cell_type": "code",
   "execution_count": 101,
   "metadata": {},
   "outputs": [],
   "source": [
    "# TODO: Create a model that runs\n",
    "# TODO: Start tuning the model\n",
    "import torch\n",
    "from torch.autograd import Variable\n",
    "from torch import nn"
   ]
  },
  {
   "cell_type": "code",
   "execution_count": 163,
   "metadata": {},
   "outputs": [
    {
     "data": {
      "text/plain": [
       "Sequential(\n",
       "  (0): Conv3d (1, 10, kernel_size=(5, 5, 5), stride=(1, 1, 1))\n",
       "  (1): ReLU()\n",
       "  (2): Conv3d (10, 20, kernel_size=(5, 5, 5), stride=(1, 1, 1))\n",
       "  (3): ReLU()\n",
       "  (4): Flatten(\n",
       "  )\n",
       "  (5): Linear(in_features=276480, out_features=1000)\n",
       "  (6): Linear(in_features=1000, out_features=2)\n",
       "  (7): Softmax()\n",
       ")"
      ]
     },
     "execution_count": 163,
     "metadata": {},
     "output_type": "execute_result"
    }
   ],
   "source": [
    "class Flatten(nn.Module):\n",
    "    def forward(self, x):\n",
    "        x = x.view(-1)\n",
    "        return x\n",
    "    \n",
    "model = nn.Sequential(nn.Conv3d(1, 10, 5),\n",
    "                      nn.ReLU(),\n",
    "                      nn.Conv3d(10, 20, 5),\n",
    "                      nn.ReLU(),\n",
    "                      Flatten(),\n",
    "                      nn.Linear(276480, 1000),\n",
    "                      nn.Linear(1000, 2),\n",
    "                      nn.Softmax(dim=0))\n",
    "model.train()"
   ]
  },
  {
   "cell_type": "code",
   "execution_count": 164,
   "metadata": {},
   "outputs": [
    {
     "name": "stdout",
     "output_type": "stream",
     "text": [
      "In shape: torch.Size([1, 1, 32, 32, 32])\n",
      "Out shape: torch.Size([2])\n",
      "Variable containing:\n",
      " 0.5140\n",
      " 0.4860\n",
      "[torch.FloatTensor of size 2]\n",
      "\n"
     ]
    }
   ],
   "source": [
    "# TODO: \n",
    "x = Variable(torch.from_numpy(normalized[8]).float())\n",
    "x = x.unsqueeze(0).unsqueeze(0)\n",
    "print('In shape:', x.shape)\n",
    "y = model(x)\n",
    "print('Out shape:', y.shape)\n",
    "print(y)"
   ]
  },
  {
   "cell_type": "code",
   "execution_count": 165,
   "metadata": {},
   "outputs": [],
   "source": [
    "from torch.optim import SGD\n",
    "from torch.nn import BCELoss\n",
    "\n",
    "optimizer = SGD(model.parameters(), lr=0.01)\n",
    "criterion = BCELoss()"
   ]
  },
  {
   "cell_type": "code",
   "execution_count": 167,
   "metadata": {},
   "outputs": [],
   "source": [
    "def train():\n",
    "    for image3d, label in zip(normalized, labels['label'].values):\n",
    "        image3d = Variable(torch.Tensor(image3d).unsqueeze(0).unsqueeze(0))\n",
    "        true_label = Variable(torch.Tensor([int(label == 0), int(label == 1)]))\n",
    "        optimizer.zero_grad()\n",
    "        pred_label = model(image3d)\n",
    "        loss = criterion(pred_label, true_label)\n",
    "        loss.backward()\n",
    "        optimizer.step()"
   ]
  },
  {
   "cell_type": "code",
   "execution_count": 168,
   "metadata": {},
   "outputs": [],
   "source": [
    "for _ in range(10):\n",
    "    train()"
   ]
  },
  {
   "cell_type": "code",
   "execution_count": 180,
   "metadata": {},
   "outputs": [
    {
     "data": {
      "text/plain": [
       "Variable containing:\n",
       " 0.9999\n",
       " 0.0001\n",
       "[torch.FloatTensor of size 2]"
      ]
     },
     "execution_count": 180,
     "metadata": {},
     "output_type": "execute_result"
    }
   ],
   "source": [
    "model(Variable(torch.Tensor(normalized[8]).unsqueeze(0).unsqueeze(0)))"
   ]
  }
 ],
 "metadata": {
  "kernelspec": {
   "display_name": "Python 3",
   "language": "python",
   "name": "python3"
  },
  "language_info": {
   "codemirror_mode": {
    "name": "ipython",
    "version": 3
   },
   "file_extension": ".py",
   "mimetype": "text/x-python",
   "name": "python",
   "nbconvert_exporter": "python",
   "pygments_lexer": "ipython3",
   "version": "3.6.3"
  }
 },
 "nbformat": 4,
 "nbformat_minor": 2
}
